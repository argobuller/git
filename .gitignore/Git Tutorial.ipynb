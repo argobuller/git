{
 "cells": [
  {
   "cell_type": "markdown",
   "metadata": {},
   "source": [
    "# GIT TUTORIAL"
   ]
  },
  {
   "cell_type": "markdown",
   "metadata": {},
   "source": [
    "## CHECK VERSION"
   ]
  },
  {
   "cell_type": "markdown",
   "metadata": {},
   "source": [
    "`git --version`"
   ]
  },
  {
   "cell_type": "markdown",
   "metadata": {},
   "source": [
    "## SET CONFIG VALUES"
   ]
  },
  {
   "cell_type": "markdown",
   "metadata": {},
   "source": [
    "`git config --global user.name \"Mirza Grbic\"` "
   ]
  },
  {
   "cell_type": "markdown",
   "metadata": {},
   "source": [
    "`git config --global user.email \"MirzaGrbic@email.com\"`"
   ]
  },
  {
   "cell_type": "markdown",
   "metadata": {},
   "source": [
    "`git config --list`"
   ]
  },
  {
   "cell_type": "markdown",
   "metadata": {},
   "source": [
    "## NEED HELP"
   ]
  },
  {
   "cell_type": "markdown",
   "metadata": {},
   "source": [
    "`git help config`"
   ]
  },
  {
   "cell_type": "markdown",
   "metadata": {},
   "source": [
    "`git config --help`"
   ]
  },
  {
   "cell_type": "markdown",
   "metadata": {},
   "source": [
    "## LOCAL PROJECT THAT YOU WANT TO START TRACKING"
   ]
  },
  {
   "cell_type": "markdown",
   "metadata": {},
   "source": [
    "`cd Your Folder/`"
   ]
  },
  {
   "cell_type": "markdown",
   "metadata": {},
   "source": [
    "`ls --la`"
   ]
  },
  {
   "cell_type": "markdown",
   "metadata": {},
   "source": [
    "Initialize empty git repository\n",
    "\n",
    "`git init`"
   ]
  },
  {
   "cell_type": "markdown",
   "metadata": {},
   "source": [
    ".git directory contains everything that's related to our repository. If we want stop tracking project then all we hae to do is remove this git directory.\n",
    "\n",
    "`rm -rf .git`"
   ]
  },
  {
   "cell_type": "markdown",
   "metadata": {},
   "source": [
    "Before we committed anything yet so before we commit anything let's first run this git status.\n",
    "`git status`"
   ]
  },
  {
   "cell_type": "markdown",
   "metadata": {},
   "source": [
    "Ignore files they you dont want to track (for example files abaout yor settings)\n",
    "`touch .gitignore`\n",
    "Open .gitingore file in text editor and add files we want get to ignore.\n",
    "For Example:\n",
    "\n",
    "`DS_Store\n",
    ".project\n",
    "*.pyc`"
   ]
  },
  {
   "cell_type": "markdown",
   "metadata": {},
   "source": [
    "#### ADD FILES TO STAGING AREA"
   ]
  },
  {
   "cell_type": "markdown",
   "metadata": {},
   "source": [
    "If we want to add all the files that are currently untracked or that we've made changes to the stagin area:\n",
    "`git add -A\n",
    "git status`\n",
    "\n",
    "Or add individually:\n",
    "\n",
    "`git add .gitignore\n",
    " git add .code.py\n",
    " git status`"
   ]
  },
  {
   "cell_type": "markdown",
   "metadata": {},
   "source": [
    "#### REMOVE FILES FROM STAGING AREA"
   ]
  },
  {
   "cell_type": "markdown",
   "metadata": {},
   "source": [
    "`git reset code.py\n",
    "git status`\n",
    "\n",
    "or remove everything:\n",
    "\n",
    "`git reset`"
   ]
  },
  {
   "cell_type": "markdown",
   "metadata": {},
   "source": [
    "#### FIRST COMMIT"
   ]
  },
  {
   "cell_type": "markdown",
   "metadata": {},
   "source": [
    "`git add -A\n",
    " git status\n",
    " git commit -m \"Initial Commit\"\n",
    " git status\n",
    " git log`"
   ]
  },
  {
   "cell_type": "markdown",
   "metadata": {},
   "source": [
    "## TRACK AN EXISTING REMOTE PROJECT"
   ]
  },
  {
   "cell_type": "markdown",
   "metadata": {},
   "source": [
    "#### CLONING A REMOTE REPO"
   ]
  },
  {
   "cell_type": "markdown",
   "metadata": {},
   "source": [
    "`git clone <url> <where to clone>`"
   ]
  },
  {
   "cell_type": "markdown",
   "metadata": {},
   "source": [
    "Example: Clone your local repository into your local maschine:\n",
    "\n",
    "`git clone ../remote_repo.git .`\n",
    "\n",
    "remote_repo.git - local repository on your local maschine [usually is URL]\n",
    ".(dot) is just means in the current directory"
   ]
  },
  {
   "cell_type": "markdown",
   "metadata": {},
   "source": [
    "`cd ..` - one step back into folder\n",
    "\n",
    "`ls` - list of directory"
   ]
  },
  {
   "cell_type": "markdown",
   "metadata": {},
   "source": [
    "#### VIEWING INFORMATION ABOUT THE REMOTE REPOSITORY"
   ]
  },
  {
   "cell_type": "markdown",
   "metadata": {},
   "source": [
    "`git remote -v`\n",
    "\n",
    "`git branch -a` - list all og the branches in our repository not only locally but remotely as well."
   ]
  },
  {
   "cell_type": "markdown",
   "metadata": {},
   "source": [
    "Let's make couple of changes to the cod base and take a look at how to commit those files and how to push to the remote repository. Go over clone repo and make sample change in one .py file. First we commit these cahges locally just like we did before and then push it.\n",
    "\n",
    "`git diff\n",
    " git status\n",
    " git add -A\n",
    " git status\n",
    " git commit -m \"Update Function\"`\n",
    "\n",
    "\n"
   ]
  },
  {
   "cell_type": "markdown",
   "metadata": {},
   "source": [
    "`git pull origin master` - what the pool toes is it will pull any changes that have been made since the last time that we pulled from that repository.\n",
    "\n",
    "`git push origin master` - origin is just the name of our remote repository and the master is the branch that we want to push to."
   ]
  },
  {
   "cell_type": "markdown",
   "metadata": {},
   "source": [
    "#### CREATING A BRANCH FOR DESIRED FEATURE"
   ]
  },
  {
   "cell_type": "markdown",
   "metadata": {},
   "source": [
    "So far we've been working directly on our master branch but this isn't really you should be using git from day to day. So let's say for example now instead of multiply function we want to work on our divide function.\n",
    "\n",
    "`git branch calc-divide`"
   ]
  },
  {
   "cell_type": "markdown",
   "metadata": {},
   "source": [
    "`git branch` - show curently using branch"
   ]
  },
  {
   "cell_type": "markdown",
   "metadata": {},
   "source": [
    "`git checkout calc-divide` - use that branch now"
   ]
  },
  {
   "cell_type": "markdown",
   "metadata": {},
   "source": [
    "git  status -> git add -A -> git commit -m \"Divide Func\" -> and we have commited those changes to our local count-divide branch. This had no effect on our local master branch and it's had no effect on our remote repository."
   ]
  },
  {
   "cell_type": "markdown",
   "metadata": {},
   "source": [
    "#### PUSH BRANCH TO REMOTE"
   ]
  },
  {
   "cell_type": "markdown",
   "metadata": {},
   "source": [
    "`git push -u origin calc-divide` - now we have pushed that calc-divide to the remote repository\n",
    "\n",
    "`git branch -a` - see all of branches - Local and Remote"
   ]
  },
  {
   "cell_type": "markdown",
   "metadata": {},
   "source": [
    "Let's say that all of those test and everything run relly well and now we're ready to merge that branch with master.\n",
    "\n",
    "`git checkout master` - switch to master branch\n",
    "\n",
    "`git pull origin master` - pull down the changes\n",
    "\n",
    "`git branch --merged`\n",
    "\n",
    "`git merge calc-divide`\n",
    "\n",
    "`git push origin master`"
   ]
  },
  {
   "cell_type": "markdown",
   "metadata": {},
   "source": [
    "#### DELETING A BRANCH"
   ]
  },
  {
   "cell_type": "markdown",
   "metadata": {},
   "source": [
    "`git branch --merged\n",
    "git branch -d calc-divide\n",
    "git branch -a\n",
    "git push origin --delete calc-divide`"
   ]
  },
  {
   "cell_type": "code",
   "execution_count": null,
   "metadata": {},
   "outputs": [],
   "source": []
  }
 ],
 "metadata": {
  "kernelspec": {
   "display_name": "Python 3",
   "language": "python",
   "name": "python3"
  },
  "language_info": {
   "codemirror_mode": {
    "name": "ipython",
    "version": 3
   },
   "file_extension": ".py",
   "mimetype": "text/x-python",
   "name": "python",
   "nbconvert_exporter": "python",
   "pygments_lexer": "ipython3",
   "version": "3.6.4"
  }
 },
 "nbformat": 4,
 "nbformat_minor": 1
}
